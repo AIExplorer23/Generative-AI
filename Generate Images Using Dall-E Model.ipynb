{
 "cells": [
  {
   "cell_type": "markdown",
   "id": "d12314d1",
   "metadata": {},
   "source": [
    "## Commands to work with RESTAPI using AZURE OPENAI SERVICE\n",
    "-----------------------------------------\n",
    "## rm -r azure-openai -f\n",
    "git clone https://github.com/MicrosoftLearning/mslearn-openai azure-openai\n",
    "-----------------------------------------\n",
    "cd azure-openai/Labfiles/05-image-generation/Python\n",
    "-----------------------------------------\n",
    "code .\n",
    "-----------------------------------------\n",
    "\n",
    "pip install python-dotenv\n",
    "-----------------------------------------\n",
    "generate-image.py\n",
    "-----------------------------------------\n",
    "python generate-image.py\n",
    "-----------------------------------------"
   ]
  },
  {
   "cell_type": "code",
   "execution_count": null,
   "id": "1d8bf72d",
   "metadata": {},
   "outputs": [],
   "source": []
  }
 ],
 "metadata": {
  "kernelspec": {
   "display_name": "Python 3 (ipykernel)",
   "language": "python",
   "name": "python3"
  },
  "language_info": {
   "codemirror_mode": {
    "name": "ipython",
    "version": 3
   },
   "file_extension": ".py",
   "mimetype": "text/x-python",
   "name": "python",
   "nbconvert_exporter": "python",
   "pygments_lexer": "ipython3",
   "version": "3.10.9"
  }
 },
 "nbformat": 4,
 "nbformat_minor": 5
}
